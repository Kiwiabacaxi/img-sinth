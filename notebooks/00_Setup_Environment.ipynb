{
 "cells": [
  {
   "cell_type": "markdown",
   "metadata": {
    "id": "setup-title"
   },
   "source": [
    "# 🌱 Setup Ambiente - Gerador de Pastagens Brasileiras\n",
    "\n",
    "Este notebook configura o ambiente completo para geração de imagens sintéticas de pastagens brasileiras usando Stable Diffusion.\n",
    "\n",
    "**Características:**\n",
    "- ✅ Otimizado para Google Colab (GPU T4/V100)\n",
    "- ✅ Instalação automática de dependências\n",
    "- ✅ Verificação de GPU e recursos\n",
    "- ✅ Download de modelos base\n",
    "- ✅ Configuração de cache otimizado\n"
   ]
  },
  {
   "cell_type": "markdown",
   "metadata": {
    "id": "requirements-section"
   },
   "source": [
    "## 🔧 1. Verificação de Sistema"
   ]
  },
  {
   "cell_type": "code",
   "execution_count": null,
   "metadata": {
    "id": "system-check"
   },
   "outputs": [],
   "source": [
    "import sys\n",
    "import torch\n",
    "import platform\n",
    "import psutil\n",
    "from pathlib import Path\n",
    "\n",
    "print(\"🖥️  INFORMAÇÕES DO SISTEMA\")\n",
    "print(\"=\" * 50)\n",
    "print(f\"Python: {sys.version}\")\n",
    "print(f\"Platform: {platform.platform()}\")\n",
    "print(f\"CPU cores: {psutil.cpu_count()}\")\n",
    "print(f\"RAM total: {psutil.virtual_memory().total / (1024**3):.1f} GB\")\n",
    "print(f\"RAM disponível: {psutil.virtual_memory().available / (1024**3):.1f} GB\")\n",
    "\n",
    "print(\"\\n🚀 INFORMAÇÕES GPU\")\n",
    "print(\"=\" * 50)\n",
    "if torch.cuda.is_available():\n",
    "    print(f\"✅ CUDA disponível: {torch.version.cuda}\")\n",
    "    print(f\"✅ GPU: {torch.cuda.get_device_name(0)}\")\n",
    "    print(f\"✅ Memória GPU: {torch.cuda.get_device_properties(0).total_memory / (1024**3):.1f} GB\")\n",
    "    print(f\"✅ Compute Capability: {torch.cuda.get_device_capability(0)}\")\n",
    "else:\n",
    "    print(\"❌ CUDA não disponível - funcionará apenas em CPU\")\n",
    "    print(\"⚠️  Para melhor performance, use runtime GPU no Colab\")\n",
    "\n",
    "print(\"\\n📁 DIRETÓRIOS COLAB\")\n",
    "print(\"=\" * 50)\n",
    "print(f\"Working dir: {Path.cwd()}\")\n",
    "if Path('/content').exists():\n",
    "    print(\"✅ Executando no Google Colab\")\n",
    "    print(f\"Espaço disponível: {psutil.disk_usage('/content').free / (1024**3):.1f} GB\")\n",
    "else:\n",
    "    print(\"⚠️  Não detectado Google Colab - ajuste paths se necessário\")"
   ]
  },
  {
   "cell_type": "markdown",
   "metadata": {
    "id": "clone-repo-section"
   },
   "source": [
    "## 📥 2. Clone do Repositório"
   ]
  },
  {
   "cell_type": "code",
   "execution_count": null,
   "metadata": {
    "id": "clone-repo"
   },
   "outputs": [],
   "source": [
    "import os\n",
    "from pathlib import Path\n",
    "\n",
    "# Verificar se já está clonado\n",
    "if Path('brazilian-pasture-synthesis').exists():\n",
    "    print(\"✅ Repositório já existe - atualizando...\")\n",
    "    %cd brazilian-pasture-synthesis\n",
    "    !git pull origin main\n",
    "else:\n",
    "    print(\"📥 Clonando repositório...\")\n",
    "    # SUBSTITUA pela URL real do seu repositório\n",
    "    !git clone https://github.com/seu-usuario/brazilian-pasture-synthesis.git\n",
    "    %cd brazilian-pasture-synthesis\n",
    "\n",
    "# Verificar estrutura\n",
    "print(\"\\n📂 ESTRUTURA DO PROJETO:\")\n",
    "!find . -maxdepth 2 -type d | head -20"
   ]
  },
  {
   "cell_type": "markdown",
   "metadata": {
    "id": "install-deps-section"
   },
   "source": [
    "## 🔧 3. Instalação de Dependências"
   ]
  },
  {
   "cell_type": "code",
   "execution_count": null,
   "metadata": {
    "id": "install-deps"
   },
   "outputs": [],
   "source": [
    "# Instalar dependências do requirements.txt\n",
    "print(\"📦 Instalando dependências principais...\")\n",
    "!pip install -r requirements.txt\n",
    "\n",
    "print(\"\\n🔧 Instalando dependências específicas do Colab...\")\n",
    "# xFormers para otimização de memória\n",
    "!pip install xformers==0.0.22.post7 --index-url https://download.pytorch.org/whl/cu118\n",
    "\n",
    "# Dependências de qualidade de imagem\n",
    "!pip install lpips pytorch-fid\n",
    "\n",
    "print(\"\\n✅ Instalação concluída!\")"
   ]
  },
  {
   "cell_type": "markdown",
   "metadata": {
    "id": "setup-dirs-section"
   },
   "source": [
    "## 📁 4. Configuração de Diretórios"
   ]
  },
  {
   "cell_type": "code",
   "execution_count": null,
   "metadata": {
    "id": "setup-dirs"
   },
   "outputs": [],
   "source": [
    "import os\n",
    "from pathlib import Path\n",
    "\n",
    "# Diretórios essenciais para Colab\n",
    "directories = [\n",
    "    \"/content/model_cache\",\n",
    "    \"/content/generated_cache\", \n",
    "    \"/content/outputs\",\n",
    "    \"/content/datasets\",\n",
    "    \"/content/temp\",\n",
    "    \"outputs/generated_images\",\n",
    "    \"outputs/datasets\", \n",
    "    \"outputs/models\",\n",
    "    \"outputs/evaluations\",\n",
    "    \"outputs/samples\"\n",
    "]\n",
    "\n",
    "print(\"📁 Criando estrutura de diretórios...\")\n",
    "for directory in directories:\n",
    "    Path(directory).mkdir(parents=True, exist_ok=True)\n",
    "    print(f\"✅ {directory}\")\n",
    "\n",
    "print(\"\\n📊 Espaço em disco:\")\n",
    "if Path('/content').exists():\n",
    "    disk_usage = psutil.disk_usage('/content')\n",
    "    print(f\"Total: {disk_usage.total / (1024**3):.1f} GB\")\n",
    "    print(f\"Usado: {disk_usage.used / (1024**3):.1f} GB\")\n",
    "    print(f\"Livre: {disk_usage.free / (1024**3):.1f} GB\")\n"
   ]
  },
  {
   "cell_type": "markdown",
   "metadata": {
    "id": "env-vars-section"
   },
   "source": [
    "## ⚙️ 5. Configuração de Variáveis de Ambiente"
   ]
  },
  {
   "cell_type": "code",
   "execution_count": null,
   "metadata": {
    "id": "env-vars"
   },
   "outputs": [],
   "source": [
    "import os\n",
    "\n",
    "# Configurações de otimização de memória\n",
    "os.environ['PYTORCH_CUDA_ALLOC_CONF'] = 'max_split_size_mb:512'\n",
    "os.environ['CUDA_VISIBLE_DEVICES'] = '0'\n",
    "\n",
    "# Diretórios de cache\n",
    "os.environ['HF_HOME'] = '/content/model_cache'\n",
    "os.environ['TRANSFORMERS_CACHE'] = '/content/model_cache'\n",
    "os.environ['DIFFUSERS_CACHE'] = '/content/model_cache'\n",
    "\n",
    "# Configurações específicas\n",
    "os.environ['TOKENIZERS_PARALLELISM'] = 'false'\n",
    "os.environ['OMP_NUM_THREADS'] = '1'\n",
    "\n",
    "print(\"⚙️ Variáveis de ambiente configuradas:\")\n",
    "important_vars = [\n",
    "    'PYTORCH_CUDA_ALLOC_CONF', 'HF_HOME', 'TRANSFORMERS_CACHE', \n",
    "    'DIFFUSERS_CACHE', 'CUDA_VISIBLE_DEVICES'\n",
    "]\n",
    "\n",
    "for var in important_vars:\n",
    "    print(f\"✅ {var}: {os.environ.get(var, 'Not set')}\")"
   ]
  },
  {
   "cell_type": "markdown",
   "metadata": {
    "id": "test-imports-section"
   },
   "source": [
    "## 🧪 6. Teste de Importações"
   ]
  },
  {
   "cell_type": "code",
   "execution_count": null,
   "metadata": {
    "id": "test-imports"
   },
   "outputs": [],
   "source": [
    "import sys\n",
    "print(\"🧪 Testando importações principais...\")\n",
    "print(\"=\" * 50)\n",
    "\n",
    "# Lista de importações críticas\n",
    "imports_to_test = [\n",
    "    ('torch', 'PyTorch'),\n",
    "    ('torchvision', 'TorchVision'),\n",
    "    ('diffusers', 'Hugging Face Diffusers'),\n",
    "    ('transformers', 'Hugging Face Transformers'), \n",
    "    ('accelerate', 'Accelerate'),\n",
    "    ('controlnet_aux', 'ControlNet Auxiliary'),\n",
    "    ('ultralytics', 'YOLOv8/v9'),\n",
    "    ('cv2', 'OpenCV'),\n",
    "    ('PIL', 'Pillow'),\n",
    "    ('numpy', 'NumPy'),\n",
    "    ('matplotlib', 'Matplotlib'),\n",
    "    ('yaml', 'PyYAML'),\n",
    "    ('albumentations', 'Albumentations'),\n",
    "    ('tqdm', 'TQDM')\n",
    "]\n",
    "\n",
    "failed_imports = []\n",
    "\n",
    "for module, name in imports_to_test:\n",
    "    try:\n",
    "        __import__(module)\n",
    "        print(f\"✅ {name:25} - OK\")\n",
    "    except ImportError as e:\n",
    "        print(f\"❌ {name:25} - FAILED: {e}\")\n",
    "        failed_imports.append(module)\n",
    "\n",
    "# Testar importações específicas do projeto\n",
    "print(\"\\n🔧 Testando módulos do projeto...\")\n",
    "print(\"=\" * 50)\n",
    "\n",
    "project_imports = [\n",
    "    ('src.diffusion.pipeline_manager', 'Pipeline Manager'),\n",
    "    ('src.diffusion.prompt_engine', 'Prompt Engine'), \n",
    "    ('src.dataset.generator', 'Dataset Generator'),\n",
    "    ('src.dataset.quality_metrics', 'Quality Metrics')\n",
    "]\n",
    "\n",
    "for module, name in project_imports:\n",
    "    try:\n",
    "        __import__(module)\n",
    "        print(f\"✅ {name:25} - OK\")\n",
    "    except ImportError as e:\n",
    "        print(f\"❌ {name:25} - FAILED: {e}\")\n",
    "        failed_imports.append(module)\n",
    "\n",
    "# Resumo\n",
    "if failed_imports:\n",
    "    print(f\"\\n⚠️ {len(failed_imports)} importações falharam:\")\n",
    "    for module in failed_imports:\n",
    "        print(f\"   - {module}\")\n",
    "    print(\"\\n🔧 Execute a célula de instalação novamente se necessário\")\n",
    "else:\n",
    "    print(\"\\n🎉 Todas as importações foram bem-sucedidas!\")\n",
    "    print(\"✅ Sistema pronto para uso\")"
   ]
  },
  {
   "cell_type": "markdown",
   "metadata": {
    "id": "gpu-test-section"
   },
   "source": [
    "## 🚀 7. Teste de GPU"
   ]
  },
  {
   "cell_type": "code",
   "execution_count": null,
   "metadata": {
    "id": "gpu-test"
   },
   "outputs": [],
   "source": [
    "import torch\n",
    "import time\n",
    "\n",
    "if torch.cuda.is_available():\n",
    "    print(\"🧪 Testando performance da GPU...\")\n",
    "    print(\"=\" * 50)\n",
    "    \n",
    "    device = torch.cuda.current_device()\n",
    "    \n",
    "    # Teste básico de alocação\n",
    "    print(\"🔸 Teste 1: Alocação de memória\")\n",
    "    try:\n",
    "        test_tensor = torch.randn(1000, 1000).cuda()\n",
    "        print(\"✅ Alocação básica: OK\")\n",
    "        del test_tensor\n",
    "        torch.cuda.empty_cache()\n",
    "    except Exception as e:\n",
    "        print(f\"❌ Erro na alocação: {e}\")\n",
    "    \n",
    "    # Teste de operações\n",
    "    print(\"\\n🔸 Teste 2: Operações matemáticas\")\n",
    "    try:\n",
    "        start_time = time.time()\n",
    "        a = torch.randn(2000, 2000).cuda()\n",
    "        b = torch.randn(2000, 2000).cuda() \n",
    "        c = torch.mm(a, b)\n",
    "        torch.cuda.synchronize()\n",
    "        end_time = time.time()\n",
    "        \n",
    "        print(f\"✅ Multiplicação de matrizes: {end_time - start_time:.3f}s\")\n",
    "        \n",
    "        del a, b, c\n",
    "        torch.cuda.empty_cache()\n",
    "    except Exception as e:\n",
    "        print(f\"❌ Erro nas operações: {e}\")\n",
    "    \n",
    "    # Informações de memória\n",
    "    print(\"\\n🔸 Status da memória GPU:\")\n",
    "    print(f\"   Alocada: {torch.cuda.memory_allocated() / 1024**3:.2f} GB\")\n",
    "    print(f\"   Reservada: {torch.cuda.memory_reserved() / 1024**3:.2f} GB\")\n",
    "    print(f\"   Máximo alocado: {torch.cuda.max_memory_allocated() / 1024**3:.2f} GB\")\n",
    "    \n",
    "    # Reset stats\n",
    "    torch.cuda.reset_peak_memory_stats()\n",
    "    \n",
    "    print(\"\\n✅ GPU funcionando corretamente!\")\n",
    "    \n",
    "else:\n",
    "    print(\"⚠️ GPU não disponível - funcionará em CPU\")\n",
    "    print(\"Para melhor performance, ative GPU no Colab:\")\n",
    "    print(\"Runtime > Change runtime type > GPU\")"
   ]
  },
  {
   "cell_type": "markdown",
   "metadata": {
    "id": "quick-download-section"
   },
   "source": [
    "## 📥 8. Download Rápido de Modelos (Opcional)"
   ]
  },
  {
   "cell_type": "code",
   "execution_count": null,
   "metadata": {
    "id": "quick-download"
   },
   "outputs": [],
   "source": [
    "# Esta célula faz download dos modelos principais - pode ser demorada\n",
    "# Execute apenas se quiser fazer cache dos modelos\n",
    "\n",
    "from diffusers import StableDiffusionXLPipeline, ControlNetModel\n",
    "import torch\n",
    "\n",
    "download_models = input(\"Fazer download dos modelos agora? (s/N): \")\n",
    "\n",
    "if download_models.lower() in ['s', 'sim', 'y', 'yes']:\n",
    "    print(\"📥 Fazendo download dos modelos base...\")\n",
    "    print(\"⏳ Isso pode demorar alguns minutos...\")\n",
    "    \n",
    "    try:\n",
    "        # Modelo principal Stable Diffusion XL\n",
    "        print(\"\\n🔸 Baixando Stable Diffusion XL...\")\n",
    "        model_id = \"stabilityai/stable-diffusion-xl-base-1.0\"\n",
    "        pipe = StableDiffusionXLPipeline.from_pretrained(\n",
    "            model_id,\n",
    "            cache_dir=\"/content/model_cache\",\n",
    "            torch_dtype=torch.float16,\n",
    "            variant=\"fp16\",\n",
    "            use_safetensors=True\n",
    "        )\n",
    "        print(\"✅ Stable Diffusion XL baixado com sucesso!\")\n",
    "        del pipe  # Liberar memória\n",
    "        \n",
    "        # Modelo ControlNet\n",
    "        print(\"\\n🔸 Baixando ControlNet Canny...\")\n",
    "        controlnet = ControlNetModel.from_pretrained(\n",
    "            \"lllyasviel/sd-controlnet-canny\",\n",
    "            cache_dir=\"/content/model_cache\",\n",
    "            torch_dtype=torch.float16\n",
    "        )\n",
    "        print(\"✅ ControlNet Canny baixado com sucesso!\")\n",
    "        del controlnet\n",
    "        \n",
    "        # Limpar cache GPU\n",
    "        if torch.cuda.is_available():\n",
    "            torch.cuda.empty_cache()\n",
    "            \n",
    "        print(\"\\n🎉 Todos os modelos baixados com sucesso!\")\n",
    "        print(\"💾 Modelos salvos em: /content/model_cache\")\n",
    "        \n",
    "    except Exception as e:\n",
    "        print(f\"❌ Erro no download: {e}\")\n",
    "        print(\"⚠️ Modelos serão baixados conforme necessário\")\n",
    "        \n",
    "else:\n",
    "    print(\"⏩ Pulando download - modelos serão baixados conforme necessário\")\n",
    "    print(\"💡 Isso pode causar delay na primeira execução\")"
   ]
  },
  {
   "cell_type": "markdown",
   "metadata": {
    "id": "setup-complete-section"
   },
   "source": [
    "## ✅ 9. Verificação Final"
   ]
  },
  {
   "cell_type": "code",
   "execution_count": null,
   "metadata": {
    "id": "setup-complete"
   },
   "outputs": [],
   "source": [
    "import os\n",
    "from pathlib import Path\n",
    "import torch\n",
    "\n",
    "print(\"🔍 VERIFICAÇÃO FINAL DO SETUP\")\n",
    "print(\"=\" * 50)\n",
    "\n",
    "# Verificar instalação\n",
    "checks = [\n",
    "    (\"Python >= 3.8\", sys.version_info >= (3, 8)),\n",
    "    (\"PyTorch instalado\", 'torch' in sys.modules),\n",
    "    (\"Diffusers instalado\", 'diffusers' in sys.modules),\n",
    "    (\"CUDA disponível\", torch.cuda.is_available()),\n",
    "    (\"Diretórios criados\", Path('/content/model_cache').exists()),\n",
    "    (\"Projeto encontrado\", Path('src').exists()),\n",
    "    (\"Configs encontrados\", Path('configs').exists())\n",
    "]\n",
    "\n",
    "all_ok = True\n",
    "for check_name, result in checks:\n",
    "    status = \"✅\" if result else \"❌\"\n",
    "    print(f\"{status} {check_name}\")\n",
    "    if not result:\n",
    "        all_ok = False\n",
    "\n",
    "print(\"\\n\" + \"=\" * 50)\n",
    "if all_ok:\n",
    "    print(\"🎉 SETUP COMPLETO COM SUCESSO!\")\n",
    "    print(\"\")\n",
    "    print(\"📚 PRÓXIMOS PASSOS:\")\n",
    "    print(\"1. Execute '01_Explore_Prompts.ipynb' para testar prompts\")\n",
    "    print(\"2. Use '02_Generate_Dataset.ipynb' para gerar imagens\")\n",
    "    print(\"3. Execute '03_Quality_Control.ipynb' para análise de qualidade\")\n",
    "    print(\"\")\n",
    "    print(\"💡 DICA: Salve uma cópia deste notebook no seu Drive!\")\n",
    "else:\n",
    "    print(\"⚠️ SETUP INCOMPLETO\")\n",
    "    print(\"Revise os passos anteriores e corrija os problemas\")\n",
    "    print(\"Em caso de dúvidas, consulte a documentação\")\n",
    "\n",
    "print(f\"\\n🕐 Setup concluído em: {time.strftime('%Y-%m-%d %H:%M:%S')}\")"
   ]
  },
  {
   "cell_type": "markdown",
   "metadata": {
    "id": "troubleshooting-section"
   },
   "source": [
    "## 🛠️ Troubleshooting\n",
    "\n",
    "### Problemas Comuns:\n",
    "\n",
    "**1. GPU não detectada:**\n",
    "- Vá em `Runtime > Change runtime type > GPU`\n",
    "- Reinicie o runtime\n",
    "\n",
    "**2. Erro de memória:**\n",
    "- Reinicie o runtime: `Runtime > Restart runtime`\n",
    "- Reduza batch_size nos experimentos\n",
    "\n",
    "**3. Erro de importação:**\n",
    "- Execute novamente a célula de instalação\n",
    "- Verifique se há conflitos de versões\n",
    "\n",
    "**4. Download lento:**\n",
    "- Use servidor do Colab mais próximo\n",
    "- Execute durante horários de menor uso\n",
    "\n",
    "### Comandos Úteis:\n",
    "```python\n",
    "# Verificar uso de GPU\n",
    "!nvidia-smi\n",
    "\n",
    "# Limpar cache\n",
    "torch.cuda.empty_cache()\n",
    "\n",
    "# Verificar espaço em disco\n",
    "!df -h\n",
    "\n",
    "# Listar processos GPU\n",
    "!fuser -v /dev/nvidia*\n",
    "```"
   ]
  }
 ],
 "metadata": {
  "accelerator": "GPU",
  "colab": {
   "gpuType": "T4",
   "provenance": []
  },
  "kernelspec": {
   "display_name": "Python 3",
   "name": "python3"
  },
  "language_info": {
   "name": "python"
  }
 },
 "nbformat": 4,
 "nbformat_minor": 0
}