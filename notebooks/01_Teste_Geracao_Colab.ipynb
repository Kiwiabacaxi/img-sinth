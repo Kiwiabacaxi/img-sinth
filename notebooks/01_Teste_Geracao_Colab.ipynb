{
 "cells": [
  {
   "cell_type": "markdown",
   "metadata": {
    "id": "title"
   },
   "source": [
    "# 🧪 Teste de Geração de Imagens - SYNTH_IMAGE\n",
    "\n",
    "Este notebook testa a geração de imagens sintéticas de pastagens brasileiras no Google Colab.\n",
    "\n",
    "---"
   ]
  },
  {
   "cell_type": "markdown",
   "metadata": {
    "id": "setup"
   },
   "source": [
    "## 📦 Instalação e Configuração"
   ]
  },
  {
   "cell_type": "code",
   "execution_count": null,
   "metadata": {
    "id": "install_dependencies"
   },
   "outputs": [],
   "source": [
    "# Instalar dependências faltantes\n",
    "!pip install controlnet-aux ultralytics xformers --upgrade --quiet\n",
    "\n",
    "# Verificar instalação GPU\n",
    "import torch\n",
    "print(f\"PyTorch version: {torch.__version__}\")\n",
    "print(f\"CUDA disponível: {torch.cuda.is_available()}\")\n",
    "if torch.cuda.is_available():\n",
    "    print(f\"GPU: {torch.cuda.get_device_name(0)}\")\n",
    "    print(f\"VRAM disponível: {torch.cuda.get_device_properties(0).total_memory / 1e9:.1f} GB\")"
   ]
  },
  {
   "cell_type": "markdown",
   "metadata": {
    "id": "imports"
   },
   "source": [
    "## 🔧 Importações"
   ]
  },
  {
   "cell_type": "code",
   "execution_count": null,
   "metadata": {
    "id": "import_libraries"
   },
   "outputs": [],
   "source": [
    "import torch\n",
    "from diffusers import StableDiffusionPipeline, DPMSolverMultistepScheduler\n",
    "from PIL import Image\n",
    "import matplotlib.pyplot as plt\n",
    "import numpy as np\n",
    "import warnings\n",
    "warnings.filterwarnings(\"ignore\")\n",
    "\n",
    "# Configurar device\n",
    "device = \"cuda\" if torch.cuda.is_available() else \"cpu\"\n",
    "print(f\"Usando device: {device}\")"
   ]
  },
  {
   "cell_type": "markdown",
   "metadata": {
    "id": "model_setup"
   },
   "source": [
    "## 🤖 Carregamento do Modelo"
   ]
  },
  {
   "cell_type": "code",
   "execution_count": null,
   "metadata": {
    "id": "load_model"
   },
   "outputs": [],
   "source": [
    "# Carregar modelo Stable Diffusion\n",
    "model_id = \"runwayml/stable-diffusion-v1-5\"\n",
    "\n",
    "print(\"Carregando modelo Stable Diffusion...\")\n",
    "pipe = StableDiffusionPipeline.from_pretrained(\n",
    "    model_id,\n",
    "    torch_dtype=torch.float16 if device == \"cuda\" else torch.float32,\n",
    "    safety_checker=None,\n",
    "    requires_safety_checker=False\n",
    ").to(device)\n",
    "\n",
    "# Usar scheduler mais rápido\n",
    "pipe.scheduler = DPMSolverMultistepScheduler.from_config(pipe.scheduler.config)\n",
    "\n",
    "# Otimização para Colab\n",
    "if device == \"cuda\":\n",
    "    pipe.enable_memory_efficient_attention()\n",
    "    pipe.enable_model_cpu_offload()\n",
    "\n",
    "print(\"Modelo carregado com sucesso!\")"
   ]
  },
  {
   "cell_type": "markdown",
   "metadata": {
    "id": "generation"
   },
   "source": [
    "## 🎨 Geração de Imagens de Teste"
   ]
  },
  {
   "cell_type": "code",
   "execution_count": null,
   "metadata": {
    "id": "generate_images"
   },
   "outputs": [],
   "source": [
    "# Prompts para pastagens brasileiras\n",
    "prompts = [\n",
    "    \"aerial view of brazilian pasture with cattle, green grass, realistic, high quality\",\n",
    "    \"tropical grassland in brazil, savanna landscape, cattle grazing, blue sky, photorealistic\",\n",
    "    \"brazilian ranch pasture, green fields, farm animals, countryside, detailed\",\n",
    "    \"cerrado landscape brazil, grass field, scattered trees, natural lighting\"\n",
    "]\n",
    "\n",
    "# Parâmetros de geração\n",
    "generator = torch.Generator(device=device).manual_seed(42)\n",
    "\n",
    "# Gerar imagens\n",
    "images = []\n",
    "for i, prompt in enumerate(prompts[:2]):  # Gerar apenas 2 para teste\n",
    "    print(f\"Gerando imagem {i+1}/2: {prompt[:50]}...\")\n",
    "    \n",
    "    image = pipe(\n",
    "        prompt=prompt,\n",
    "        negative_prompt=\"low quality, blurry, distorted, ugly, bad anatomy\",\n",
    "        num_inference_steps=20,  # Reduzido para velocidade\n",
    "        guidance_scale=7.5,\n",
    "        width=512,\n",
    "        height=512,\n",
    "        generator=generator\n",
    "    ).images[0]\n",
    "    \n",
    "    images.append(image)\n",
    "    \n",
    "print(\"Imagens geradas com sucesso!\")"
   ]
  },
  {
   "cell_type": "markdown",
   "metadata": {
    "id": "display"
   },
   "source": [
    "## 📸 Visualização dos Resultados"
   ]
  },
  {
   "cell_type": "code",
   "execution_count": null,
   "metadata": {
    "id": "display_images"
   },
   "outputs": [],
   "source": [
    "# Exibir imagens geradas\n",
    "fig, axes = plt.subplots(1, 2, figsize=(15, 7))\n",
    "\n",
    "for i, (image, prompt) in enumerate(zip(images, prompts[:2])):\n",
    "    axes[i].imshow(image)\n",
    "    axes[i].set_title(f\"Imagem {i+1}\\n{prompt[:40]}...\", fontsize=10)\n",
    "    axes[i].axis('off')\n",
    "\n",
    "plt.tight_layout()\n",
    "plt.show()\n",
    "\n",
    "# Salvar imagens\n",
    "for i, image in enumerate(images):\n",
    "    image.save(f\"pastagem_brasileira_{i+1}.png\")\n",
    "    print(f\"Imagem {i+1} salva como: pastagem_brasileira_{i+1}.png\")"
   ]
  },
  {
   "cell_type": "markdown",
   "metadata": {
    "id": "test_controlnet"
   },
   "source": [
    "## 🎯 Teste ControlNet (Opcional)"
   ]
  },
  {
   "cell_type": "code",
   "execution_count": null,
   "metadata": {
    "id": "controlnet_test"
   },
   "outputs": [],
   "source": [
    "# Testar ControlNet se disponível\n",
    "try:\n",
    "    from diffusers import StableDiffusionControlNetPipeline, ControlNetModel\n",
    "    from controlnet_aux import CannyDetector\n",
    "    import cv2\n",
    "    \n",
    "    print(\"✅ ControlNet disponível!\")\n",
    "    \n",
    "    # Criar uma imagem de borda simples para teste\n",
    "    canny = CannyDetector()\n",
    "    \n",
    "    # Usar primeira imagem gerada como base\n",
    "    if images:\n",
    "        canny_image = canny(images[0])\n",
    "        \n",
    "        # Exibir resultado\n",
    "        plt.figure(figsize=(10, 5))\n",
    "        plt.subplot(1, 2, 1)\n",
    "        plt.imshow(images[0])\n",
    "        plt.title(\"Imagem Original\")\n",
    "        plt.axis('off')\n",
    "        \n",
    "        plt.subplot(1, 2, 2)\n",
    "        plt.imshow(canny_image, cmap='gray')\n",
    "        plt.title(\"Bordas Canny\")\n",
    "        plt.axis('off')\n",
    "        plt.show()\n",
    "        \n",
    "        print(\"ControlNet testado com sucesso!\")\n",
    "    \n",
    "except ImportError as e:\n",
    "    print(f\"❌ ControlNet não disponível: {e}\")\n",
    "except Exception as e:\n",
    "    print(f\"⚠️ Erro no teste ControlNet: {e}\")"
   ]
  },
  {
   "cell_type": "markdown",
   "metadata": {
    "id": "test_yolo"
   },
   "source": [
    "## 🎯 Teste YOLO (Opcional)"
   ]
  },
  {
   "cell_type": "code",
   "execution_count": null,
   "metadata": {
    "id": "yolo_test"
   },
   "outputs": [],
   "source": [
    "# Testar YOLO se disponível\n",
    "try:\n",
    "    from ultralytics import YOLO\n",
    "    \n",
    "    print(\"✅ YOLO disponível!\")\n",
    "    \n",
    "    # Carregar modelo pré-treinado\n",
    "    model = YOLO('yolov8n.pt')\n",
    "    \n",
    "    # Testar detecção na primeira imagem\n",
    "    if images:\n",
    "        results = model(images[0])\n",
    "        \n",
    "        # Exibir resultados\n",
    "        annotated_frame = results[0].plot()\n",
    "        \n",
    "        plt.figure(figsize=(10, 8))\n",
    "        plt.imshow(cv2.cvtColor(annotated_frame, cv2.COLOR_BGR2RGB))\n",
    "        plt.title(\"Detecções YOLO\")\n",
    "        plt.axis('off')\n",
    "        plt.show()\n",
    "        \n",
    "        print(\"YOLO testado com sucesso!\")\n",
    "    \n",
    "except ImportError as e:\n",
    "    print(f\"❌ YOLO não disponível: {e}\")\n",
    "except Exception as e:\n",
    "    print(f\"⚠️ Erro no teste YOLO: {e}\")"
   ]
  },
  {
   "cell_type": "markdown",
   "metadata": {
    "id": "metrics"
   },
   "source": [
    "## 📊 Métricas de Performance"
   ]
  },
  {
   "cell_type": "code",
   "execution_count": null,
   "metadata": {
    "id": "performance_metrics"
   },
   "outputs": [],
   "source": [
    "# Informações de memória\n",
    "if torch.cuda.is_available():\n",
    "    print(\"📊 Uso de Memória GPU:\")\n",
    "    print(f\"Alocada: {torch.cuda.memory_allocated() / 1e9:.2f} GB\")\n",
    "    print(f\"Reservada: {torch.cuda.memory_reserved() / 1e9:.2f} GB\")\n",
    "    print(f\"Máxima alocada: {torch.cuda.max_memory_allocated() / 1e9:.2f} GB\")\n",
    "\n",
    "# Verificar tamanhos das imagens\n",
    "if images:\n",
    "    print(\"\\n📸 Informações das Imagens:\")\n",
    "    for i, image in enumerate(images):\n",
    "        print(f\"Imagem {i+1}: {image.size} - Modo: {image.mode}\")\n",
    "\n",
    "print(\"\\n✅ Teste concluído com sucesso!\")\n",
    "print(\"\\n🎯 Próximos passos:\")\n",
    "print(\"- Ajustar prompts para pastagens brasileiras específicas\")\n",
    "print(\"- Implementar pipeline completo com ControlNet\")\n",
    "print(\"- Integrar detecção YOLO para validação\")\n",
    "print(\"- Configurar dataset personalizado\")"
   ]
  }
 ],
 "metadata": {
  "accelerator": "GPU",
  "colab": {
   "gpuType": "T4",
   "provenance": []
  },
  "kernelspec": {
   "display_name": "Python 3",
   "name": "python3"
  },
  "language_info": {
   "name": "python"
  }
 },
 "nbformat": 4,
 "nbformat_minor": 0
}