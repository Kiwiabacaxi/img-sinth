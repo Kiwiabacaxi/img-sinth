{
 "cells": [
  {
   "cell_type": "code",
   "source": "print(\"\\n✓ Notebook execution completed successfully!\")\nprint(f\"All files saved with timestamp {timestamp} to avoid overwriting.\")\nprint(\"\\nIMPORTANT: Each execution creates a unique folder - no files will be overwritten!\")",
   "metadata": {},
   "execution_count": null,
   "outputs": []
  },
  {
   "cell_type": "code",
   "source": "# Generate comprehensive summary report\nprint(\"\\n\" + \"=\"*70)\nprint(\"GRASS SPECIES 3-LEVEL GENERATION SUMMARY\")\nprint(f\"Execution Timestamp: {timestamp}\")\nprint(\"=\"*70)\n\nsuccessful_prompts = 0\ntotal_images = 0\n\n# Summary by species (3 levels each)\nfor species in ['brachiaria', 'panicum', 'cynodon']:\n    species_prompts = [k for k, v in all_generated_images.items() if v['species'] == species]\n    species_successful = [k for k in species_prompts if all_generated_images[k]['images']]\n    species_total_images = sum(len(all_generated_images[k]['images']) for k in species_prompts)\n    \n    print(f\"\\n{species.upper()} (3 Níveis Otimizados):\")\n    for prompt_key in species_prompts:\n        data = all_generated_images[prompt_key]\n        if data['images']:\n            print(f\"  ✓ {data['description']}: {len(data['images'])} images\")\n            successful_prompts += 1\n            total_images += len(data['images'])\n        else:\n            print(f\"  ✗ {data['description']}: Failed - {data.get('error', 'Unknown error')}\")\n\nprint(f\"\\nRESULTADOS FINAIS:\")\nprint(f\"- Sistema: 3 níveis otimizados por espécie\")\nprint(f\"- Conjuntos de prompts bem-sucedidos: {successful_prompts}/{len(all_prompts_refined)}\")\nprint(f\"- Total de imagens geradas: {total_images}\")\nprint(f\"- Espécies processadas: {len(species_directories)}\")\nprint(f\"- Diretório de saída: {output_dir}\")\nprint(f\"- Timestamp único: {timestamp}\")\nprint(f\"- Pastas por espécie: {list(species_directories.keys())}\")\n\nprint(f\"\\nVANTAGENS DO SISTEMA 3 NÍVEIS:\")\nprint(f\"- Maior consistência nas gerações\")\nprint(f\"- Melhor diferenciação entre níveis\")\nprint(f\"- Redução de sobreposição de arquivos\")\nprint(f\"- Nomenclatura única com timestamp\")\nprint(f\"- Foco em qualidade vs. quantidade\")\nprint(\"=\"*70)",
   "metadata": {},
   "execution_count": null,
   "outputs": []
  },
  {
   "cell_type": "code",
   "source": "# Save individual images with unique timestamp naming\ndef save_individual_images_with_timestamp(all_images, output_directory, timestamp):\n    \"\"\"\n    Save each generated image individually with timestamp to avoid conflicts\n    \"\"\"\n    saved_count = 0\n    species_folders = {}\n    \n    # Create species directories with timestamp\n    for prompt_key, data in all_images.items():\n        species = data['species']\n        if species not in species_folders:\n            species_dir = os.path.join(output_directory, f\"{species}_3levels_{timestamp}\")\n            os.makedirs(species_dir, exist_ok=True)\n            species_folders[species] = species_dir\n            print(f\"Created directory: {species_dir}\")\n    \n    # Save images with timestamp naming\n    for prompt_key, data in all_images.items():\n        if not data['images']:\n            continue\n        \n        species = data['species']\n        species_dir = species_folders[species]\n        \n        for i, image in enumerate(data['images']):\n            filename = f\"{prompt_key}_{timestamp}_img{i+1}.png\"\n            filepath = os.path.join(species_dir, filename)\n            \n            image.save(filepath)\n            saved_count += 1\n            print(f\"Saved: {species}_3levels_{timestamp}/{filename}\")\n    \n    print(f\"\\nTotal images saved: {saved_count}\")\n    print(f\"Images organized in {len(species_folders)} species folders with timestamp {timestamp}\")\n    return saved_count, species_folders\n\n# Save all images with timestamp\nsaved_images, species_directories = save_individual_images_with_timestamp(\n    all_generated_images, output_dir, timestamp\n)",
   "metadata": {},
   "execution_count": null,
   "outputs": []
  },
  {
   "cell_type": "code",
   "source": "# Display all images in organized grid by species\ndef display_species_organized_grid(all_images):\n    \"\"\"\n    Display all generated images organized by species in separate grids\n    \"\"\"\n    species_list = ['brachiaria', 'panicum', 'cynodon']\n    \n    for species in species_list:\n        # Get prompts for this species\n        species_prompts = [(k, v) for k, v in all_images.items() \n                          if v['species'] == species and v['images']]\n        \n        if not species_prompts:\n            print(f\"No images to display for {species}\")\n            continue\n        \n        # Create subplot for this species\n        rows = len(species_prompts)\n        cols = 2  # 2 images per condition\n        \n        fig, axes = plt.subplots(rows, cols, figsize=(12, 4*rows))\n        if rows == 1:\n            axes = axes.reshape(1, -1)\n        \n        fig.suptitle(f\"{species.capitalize()} - Sistema 3 Níveis (Timestamp: {timestamp})\", fontsize=16, fontweight='bold')\n        \n        for i, (prompt_key, data) in enumerate(species_prompts):\n            images = data['images']\n            description = data['description']\n            \n            for j in range(min(cols, len(images))):\n                axes[i, j].imshow(images[j])\n                axes[i, j].set_title(f\"{description} - Imagem {j+1}\", fontsize=10)\n                axes[i, j].axis('off')\n            \n            # Hide unused subplots\n            for j in range(len(images), cols):\n                axes[i, j].axis('off')\n        \n        plt.tight_layout()\n        \n        # Save species-specific grid\n        grid_filename = f\"{output_dir}/{species}_3levels_grid_{timestamp}.png\"\n        plt.savefig(grid_filename, dpi=300, bbox_inches='tight')\n        plt.show()\n        \n        print(f\"Saved {species} grid: {grid_filename}\")\n\n# Display organized grids\ndisplay_species_organized_grid(all_generated_images)",
   "metadata": {},
   "execution_count": null,
   "outputs": []
  },
  {
   "cell_type": "code",
   "source": "# Generate all images for all species (3-level optimized system)\nall_generated_images = {}\ntotal_prompts = len(all_prompts_refined)\ncurrent_prompt = 0\n\nprint(f\"Starting generation of {total_prompts} prompt sets (3 species × 3 levels each)\")\nprint(f\"Expected total images: {total_prompts * 2} (2 per prompt set)\")\nprint(\"\\n\" + \"=\"*60)\n\nfor prompt_key, prompt_data in all_prompts_refined.items():\n    current_prompt += 1\n    species = get_species_from_key(prompt_key)\n    \n    print(f\"\\nProcessing {current_prompt}/{total_prompts}: {prompt_key} ({species})\")\n    print(\"-\" * 50)\n    \n    try:\n        images = generate_species_images_optimized(prompt_data, num_images=2)\n        all_generated_images[prompt_key] = {\n            'images': images,\n            'description': prompt_data['description'],\n            'species': species\n        }\n        print(f\"✓ Successfully generated 2 images for {prompt_key}\")\n        \n    except Exception as e:\n        print(f\"✗ Error generating {prompt_key}: {e}\")\n        all_generated_images[prompt_key] = {\n            'images': [],\n            'description': prompt_data['description'],\n            'species': species,\n            'error': str(e)\n        }\n\nprint(f\"\\n\\n{'='*60}\")\nprint(\"GENERATION COMPLETE!\")\nprint(f\"{'='*60}\")\n\nsuccessful_generations = len([k for k, v in all_generated_images.items() if v['images']])\ntotal_images_generated = sum(len(v['images']) for v in all_generated_images.values())\n\nprint(f\"Generated images for {successful_generations}/{total_prompts} prompt sets.\")\nprint(f\"Total images: {total_images_generated}\")\n\n# Count by species\nspecies_count = {}\nfor data in all_generated_images.values():\n    species = data['species']\n    if species not in species_count:\n        species_count[species] = {'total': 0, 'successful': 0, 'images': 0}\n    species_count[species]['total'] += 1\n    if data['images']:\n        species_count[species]['successful'] += 1\n        species_count[species]['images'] += len(data['images'])\n\nfor species, counts in species_count.items():\n    print(f\"{species.capitalize()}: {counts['successful']}/{counts['total']} sets, {counts['images']} images\")",
   "metadata": {},
   "execution_count": null,
   "outputs": []
  },
  {
   "cell_type": "code",
   "source": "# Test generation with one prompt to verify the system\nprint(\"Testing optimized 3-level generation system...\")\n\n# Select a test prompt\ntest_prompt_key = 'brachiaria_optimal_health'\ntest_prompt_data = all_prompts_refined[test_prompt_key]\n\n# Generate a test image\nprint(\"Generating test image with optimized parameters...\")\ntest_images = generate_species_images_optimized(test_prompt_data, num_images=1)\n\n# Display the test result\nif test_images:\n    plt.figure(figsize=(8, 8))\n    plt.imshow(test_images[0])\n    plt.title(f\"Test Result: {test_prompt_data['description']}\")\n    plt.axis('off')\n    plt.show()\n    print(\"✓ Test generation successful - system ready!\")\nelse:\n    print(\"✗ Test generation failed\")",
   "metadata": {},
   "execution_count": null,
   "outputs": []
  },
  {
   "cell_type": "code",
   "source": "# Optimized generation function for 3-level system\ndef generate_species_images_optimized(prompt_data, num_images=2):\n    \"\"\"\n    Optimized generation for 3-level system with consistent parameters\n    \"\"\"\n    images = []\n    \n    positive_prompt = prompt_data['positive']\n    negative_prompt = prompt_data['negative']\n    \n    print(f\"Generating {num_images} images for: {prompt_data['description']}\")\n    print(f\"Positive: {positive_prompt[:80]}...\")\n    print(f\"Negative: {negative_prompt[:80]}...\")\n    \n    for i in range(num_images):\n        print(f\"  Generating image {i+1}/{num_images}...\")\n        \n        # Optimized parameters for consistency\n        guidance_scale = 5.0  # Consistent guidance\n        num_steps = 30        # Consistent steps\n        seed = random.randint(0, 2**32 - 1)  # Random seed for variety\n        \n        print(f\"    Parameters: guidance={guidance_scale}, steps={num_steps}, seed={seed}\")\n        \n        with torch.inference_mode():\n            generator = torch.Generator(device=\"cuda\" if torch.cuda.is_available() else \"cpu\")\n            generator.manual_seed(seed)\n            \n            image = pipe(\n                prompt=positive_prompt,\n                negative_prompt=negative_prompt,\n                num_inference_steps=num_steps,\n                guidance_scale=guidance_scale,\n                height=1024,\n                width=1024,\n                generator=generator\n            ).images[0]\n        \n        images.append(image)\n    \n    return images\n\n# Function to determine species from prompt key\ndef get_species_from_key(prompt_key):\n    if prompt_key.startswith('brachiaria'):\n        return 'brachiaria'\n    elif prompt_key.startswith('panicum'):\n        return 'panicum'\n    elif prompt_key.startswith('cynodon'):\n        return 'cynodon'\n    else:\n        return 'unknown'\n\nprint(\"✓ Optimized generation functions loaded!\")",
   "metadata": {},
   "execution_count": null,
   "outputs": []
  },
  {
   "cell_type": "code",
   "source": "# Create unique output directory with timestamp to avoid overwriting\ntimestamp = datetime.now().strftime(\"%Y%m%d_%H%M%S\")\ndate_folder = datetime.now().strftime(\"%Y-%m-%d\")\noutput_dir = f\"grass_3levels_generation_{timestamp}\"\nos.makedirs(output_dir, exist_ok=True)\n\nprint(f\"Output directory: {output_dir}\")\nprint(f\"Date folder for organization: {date_folder}\")\nprint(f\"Timestamp: {timestamp}\")\nprint(\"\\n✓ Directory structure created - each execution will have unique folder!\")",
   "metadata": {},
   "execution_count": null,
   "outputs": []
  },
  {
   "cell_type": "code",
   "source": "# Sistema de 3 níveis otimizado para melhores resultados\nbrachiaria_prompts_refined = {\n    'brachiaria_optimal_health': {\n        'positive': (\n            \"perfect overhead view of prime brachiaria brizantha pasture, \"\n            \"thick vibrant green tropical grass, dense uniform coverage, \"\n            \"wide leaf blades in natural tufts, robust plant structure, \"\n            \"excellent ground coverage, no bare soil visible, \"\n            \"agricultural research photography, natural daylight, \"\n            \"top-down perspective, healthy tropical grassland\"\n        ),\n        'negative': (\n            \"sparse coverage, thin grass, bare patches, yellow grass, \"\n            \"ground level view, side angle, artificial, synthetic, \"\n            \"ornamental lawn, temperate species, flowers\"\n        ),\n        'description': \"Brachiaria - Saúde Ótima\"\n    },\n    \n    'brachiaria_good_condition': {\n        'positive': (\n            \"aerial view of good condition brachiaria pasture, \"\n            \"mostly green grass with natural color variation, \"\n            \"good coverage with minor irregular patches, \"\n            \"wide leaf tropical grass showing normal field variation, \"\n            \"scientific documentation, natural lighting, \"\n            \"overhead perspective, realistic pasture condition\"\n        ),\n        'negative': (\n            \"severely damaged, mostly bare soil, dying grass, \"\n            \"ground perspective, ornamental setting, artificial, \"\n            \"temperate grass, decorative lawn\"\n        ),\n        'description': \"Brachiaria - Boa Condição\"\n    },\n    \n    'brachiaria_moderate_stress': {\n        'positive': (\n            \"top-down view of brachiaria pasture under moderate stress, \"\n            \"mixed green and lighter colored grass areas, \"\n            \"uneven plant density, some small bare soil spots visible, \"\n            \"tropical grass showing stress but still recognizable, \"\n            \"natural variation in coverage, field research documentation, \"\n            \"realistic pasture with environmental stress\"\n        ),\n        'negative': (\n            \"completely healthy, uniform green, perfect coverage, \"\n            \"ground level view, decorative grass, artificial, \"\n            \"abstract patterns, unrecognizable vegetation\"\n        ),\n        'description': \"Brachiaria - Estresse Moderado\"\n    }\n}\n\n# Panicum com 3 níveis\npanicum_prompts_refined = {\n    'panicum_excellent_vigor': {\n        'positive': (\n            \"overhead view of vigorous panicum maximum pasture, \"\n            \"tall robust green tropical grass, wide leaf blades, \"\n            \"dense natural clumping pattern, excellent coverage, \"\n            \"healthy upright growth, thick stems visible, \"\n            \"research quality photography, natural lighting\"\n        ),\n        'negative': (\n            \"short grass, thin blades, sparse coverage, ground view, \"\n            \"artificial, ornamental, temperate species\"\n        ),\n        'description': \"Panicum - Vigor Excelente\"\n    },\n    \n    'panicum_adequate_growth': {\n        'positive': (\n            \"aerial view of adequate panicum grass field, \"\n            \"mostly green tall grass with natural variation, \"\n            \"good but not perfect coverage, mixed growth vigor, \"\n            \"large tropical grass with normal field irregularities, \"\n            \"scientific documentation, top-down perspective\"\n        ),\n        'negative': (\n            \"severely stressed, mostly bare, dying vegetation, \"\n            \"ground perspective, decorative setting, artificial\"\n        ),\n        'description': \"Panicum - Crescimento Adequado\"\n    },\n    \n    'panicum_declining_vigor': {\n        'positive': (\n            \"overhead documentation of declining panicum pasture, \"\n            \"tall grass with mixed green and pale areas, \"\n            \"reduced plant density, some bare patches, \"\n            \"tropical grass showing stress but maintaining structure, \"\n            \"natural field conditions, research photography\"\n        ),\n        'negative': (\n            \"perfect health, uniform coverage, decorative lawn, \"\n            \"ground view, abstract patterns, unrecognizable\"\n        ),\n        'description': \"Panicum - Vigor em Declínio\"\n    }\n}\n\n# Cynodon com 3 níveis\ncynodon_prompts_refined = {\n    'cynodon_premium_condition': {\n        'positive': (\n            \"perfect overhead view of premium cynodon dactylon, \"\n            \"dense carpet-like grass coverage, uniform bright green, \"\n            \"fine textured stoloniferous mat, excellent ground coverage, \"\n            \"tight formation, no visible soil, research quality, \"\n            \"natural lighting, top-down agricultural documentation\"\n        ),\n        'negative': (\n            \"sparse coverage, bare patches, coarse texture, \"\n            \"ground level view, artificial turf, ornamental\"\n        ),\n        'description': \"Cynodon - Condição Premium\"\n    },\n    \n    'cynodon_standard_quality': {\n        'positive': (\n            \"aerial view of standard quality cynodon pasture, \"\n            \"good carpet coverage with minor thin areas, \"\n            \"mostly uniform green with natural color variation, \"\n            \"stoloniferous grass with adequate density, \"\n            \"scientific field documentation, overhead perspective\"\n        ),\n        'negative': (\n            \"severely thin, mostly bare soil, dying grass, \"\n            \"ground view, decorative setting, artificial\"\n        ),\n        'description': \"Cynodon - Qualidade Padrão\"\n    },\n    \n    'cynodon_thinning_coverage': {\n        'positive': (\n            \"top-down view of cynodon with thinning coverage, \"\n            \"patchy grass areas with visible thin spots, \"\n            \"mixed density stoloniferous growth, some soil showing, \"\n            \"declining but still recognizable cynodon pasture, \"\n            \"natural field conditions, research documentation\"\n        ),\n        'negative': (\n            \"thick perfect carpet, uniform coverage, decorative turf, \"\n            \"ground perspective, abstract patterns, unrecognizable\"\n        ),\n        'description': \"Cynodon - Cobertura Rarefeita\"\n    }\n}\n\n# Combine all prompts\nall_prompts_refined = {**brachiaria_prompts_refined, **panicum_prompts_refined, **cynodon_prompts_refined}\n\nprint(f\"Loaded {len(brachiaria_prompts_refined)} Brachiaria prompts (3 levels)\")\nprint(f\"Loaded {len(panicum_prompts_refined)} Panicum prompts (3 levels)\")\nprint(f\"Loaded {len(cynodon_prompts_refined)} Cynodon prompts (3 levels)\")\nprint(f\"Total prompts: {len(all_prompts_refined)}\")\nprint(\"✓ Sistema de 3 níveis otimizado carregado com sucesso!\")",
   "metadata": {},
   "execution_count": null,
   "outputs": []
  },
  {
   "cell_type": "code",
   "source": "# Load the Stable Diffusion 3.5 Medium model\nprint(\"Loading Stable Diffusion 3.5 Medium...\")\npipe = StableDiffusion3Pipeline.from_pretrained(\n    \"stabilityai/stable-diffusion-3.5-medium\",\n    torch_dtype=torch.float16,\n    device_map=\"balanced\"\n)\n\nprint(\"Model loaded successfully!\")",
   "metadata": {},
   "execution_count": null,
   "outputs": []
  },
  {
   "cell_type": "code",
   "source": "# Hugging Face login (required for SD 3.5 Medium)\nlogin()",
   "metadata": {},
   "execution_count": null,
   "outputs": []
  },
  {
   "cell_type": "code",
   "source": "# Check GPU availability\nprint(f\"CUDA available: {torch.cuda.is_available()}\")\nif torch.cuda.is_available():\n    print(f\"GPU: {torch.cuda.get_device_name(0)}\")\n    print(f\"GPU Memory: {torch.cuda.get_device_properties(0).total_memory / 1024**3:.1f} GB\")",
   "metadata": {},
   "execution_count": null,
   "outputs": []
  },
  {
   "cell_type": "code",
   "source": "# Import libraries\nimport torch\nfrom diffusers import StableDiffusion3Pipeline\nfrom huggingface_hub import login\nimport matplotlib.pyplot as plt\nfrom PIL import Image\nimport os\nfrom datetime import datetime\nimport random\nimport shutil",
   "metadata": {},
   "execution_count": null,
   "outputs": []
  },
  {
   "cell_type": "markdown",
   "metadata": {},
   "source": [
    "# Stable Diffusion 3.5 Medium - Grass Species Generation (3 Níveis Otimizados)\n",
    "\n",
    "Sistema otimizado para gerar imagens mais consistentes de espécies de gramíneas com apenas 3 níveis de degradação para cada espécie.\n",
    "\n",
    "## Espécies e Condições Otimizadas:\n",
    "- **Brachiaria brizantha**: 3 níveis (Saúde Ótima → Boa Condição → Estresse Moderado)\n",
    "- **Panicum maximum**: 3 níveis (Vigor Excelente → Crescimento Adequado → Vigor em Declínio)\n",
    "- **Cynodon dactylon**: 3 níveis (Condição Premium → Qualidade Padrão → Cobertura Rarefeita)\n",
    "\n",
    "**Total**: 9 condições diferentes, 2 imagens cada = 18 imagens\n",
    "\n",
    "**Melhorias nesta versão:**\n",
    "- Sistema de 3 níveis para maior consistência\n",
    "- Salvamento único por execução (evita sobreposição)\n",
    "- Prompts refinados para melhor qualidade\n",
    "- Nomenclatura timestamp para organização"
   ]
  },
  {
   "cell_type": "code",
   "execution_count": null,
   "metadata": {},
   "outputs": [],
   "source": [
    "# Install required packages\n",
    "!pip install diffusers transformers accelerate torch torchvision huggingface_hub --quiet"
   ]
  }
 ],
 "metadata": {
  "kernelspec": {
   "display_name": "Python 3",
   "language": "python",
   "name": "python3"
  },
  "language_info": {
   "codemirror_mode": {
    "name": "ipython",
    "version": 3
   },
   "file_extension": ".py",
   "mimetype": "text/x-python",
   "name": "python",
   "nbconvert_exporter": "python",
   "pygments_lexer": "ipython3",
   "version": "3.8.10"
  }
 },
 "nbformat": 4,
 "nbformat_minor": 4
}